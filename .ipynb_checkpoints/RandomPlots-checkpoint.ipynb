{
 "cells": [
  {
   "cell_type": "code",
   "execution_count": 497,
   "metadata": {},
   "outputs": [],
   "source": [
    "def testing_adjacent_elements(current_list, prev_list, n_adjacent_start):\n",
    "    len_list = len(current_list)\n",
    "    start_pos = n_adjacent_start\n",
    "    for i in range(start_pos, len_list):\n",
    "        if i == start_pos:\n",
    "            if prev_list[i] == current_list[0] or prev_list[i] == current_list[1]:\n",
    "#             if current_list[i] == prev_list[i] or current_list[i] == prev_list[i+1]:\n",
    "                return False\n",
    "        elif i == (len_list - 1):\n",
    "            if current_list[i] == prev_list[i-1] or current_list[i] == prev_list[i]:\n",
    "                return False\n",
    "        else:\n",
    "            if current_list[i] == prev_list[i-1] or current_list[i] == prev_list[i] or current_list[i] == prev_list[i+1]:\n",
    "                return False\n",
    "                       \n",
    "    return True"
   ]
  },
  {
   "cell_type": "code",
   "execution_count": 518,
   "metadata": {},
   "outputs": [],
   "source": [
    "def testing_adjacent_elements(current_list, prev_list, prev_list_start, n_rows):\n",
    "    len_list = len(current_list)\n",
    "    current_list_end = len_list - prev_list_start\n",
    "    for i, j in zip(range(prev_list_start, len_list), range(current_list_end)):\n",
    "        if i == prev_list_start:\n",
    "            if prev_list[i] == current_list[j] or prev_list[i] == current_list[j+1]:\n",
    "                return False\n",
    "        elif i == (len_list - 1) and current_list_end == n_rows:\n",
    "            if prev_list[i] == current_list[j-1] or prev_list[i] == current_list[j]:\n",
    "                return False\n",
    "        else:\n",
    "            if prev_list[i] == current_list[j-1] or prev_list[i] == current_list[j] or prev_list[i] == current_list[j+1]:\n",
    "                return False\n",
    "                       \n",
    "    return True"
   ]
  },
  {
   "cell_type": "code",
   "execution_count": 533,
   "metadata": {},
   "outputs": [
    {
     "name": "stdout",
     "output_type": "stream",
     "text": [
      "Cols: 2\n",
      "Rows: 5\n",
      "5\n",
      "[3, 0, 5, 2, 6, 4, 9, 7, 8, 1]\n",
      "[[3 0]\n",
      " [5 2]\n",
      " [6 4]\n",
      " [9 7]\n",
      " [8 1]]\n",
      "[6, 0, 1, 5, 4, 7, 3, 8, 2, 9]\n",
      "[[6 0]\n",
      " [1 5]\n",
      " [4 7]\n",
      " [3 8]\n",
      " [2 9]]\n",
      "[8, 5, 1, 4, 7, 3, 6, 9, 2, 0]\n",
      "[[8 5]\n",
      " [1 4]\n",
      " [7 3]\n",
      " [6 9]\n",
      " [2 0]]\n"
     ]
    }
   ],
   "source": [
    "import random\n",
    "import math\n",
    "import numpy as np\n",
    "n_reps = 3\n",
    "n_plots = 10\n",
    "n_cols = 2\n",
    "n_rows = int(math.ceil(float(n_plots)/n_cols))\n",
    "n_adjacent_start = n_rows*(n_cols - 1)\n",
    "# For cases like n_cols = 4 and n_plots = 9 (better n_cols = 3)\n",
    "if n_plots == n_adjacent:\n",
    "    n_cols -= 1\n",
    "    n_adjacent_start = n_rows*(n_cols - 1)\n",
    "\n",
    "print(\"Cols: \" + str(n_cols))\n",
    "print(\"Rows: \" + str(n_rows))\n",
    "print(n_adjacent_start)\n",
    "prev_list = []\n",
    "current_list = range(n_plots)\n",
    "for i in range(n_reps):\n",
    "    current_list = random.sample(current_list, len(current_list))\n",
    "    if len(prev_list)!=0:\n",
    "        while(testing_adjacent_elements(current_list, prev_list, n_adjacent_start, n_rows) == False):\n",
    "            current_list = random.sample(current_list, len(current_list))\n",
    "    prev_list = current_list\n",
    "    print(current_list)\n",
    "    print(np.asarray(current_list).reshape(n_rows, n_cols))"
   ]
  },
  {
   "cell_type": "code",
   "execution_count": null,
   "metadata": {},
   "outputs": [],
   "source": []
  },
  {
   "cell_type": "code",
   "execution_count": null,
   "metadata": {},
   "outputs": [],
   "source": []
  },
  {
   "cell_type": "code",
   "execution_count": 527,
   "metadata": {},
   "outputs": [
    {
     "name": "stdout",
     "output_type": "stream",
     "text": [
      "[[1, 4, 5, 12], [-5, 8, 9, 0], [-6, 7, 11, 19]]\n"
     ]
    }
   ],
   "source": [
    "A = [[1, 4, 5, 12], \n",
    "    [-5, 8, 9, 0],\n",
    "    [-6, 7, 11, 19]]\n",
    "print A"
   ]
  },
  {
   "cell_type": "code",
   "execution_count": null,
   "metadata": {},
   "outputs": [],
   "source": []
  },
  {
   "cell_type": "code",
   "execution_count": null,
   "metadata": {},
   "outputs": [],
   "source": []
  },
  {
   "cell_type": "code",
   "execution_count": 515,
   "metadata": {},
   "outputs": [
    {
     "name": "stdout",
     "output_type": "stream",
     "text": [
      "5 0\n",
      "6 1\n",
      "7 2\n",
      "8 3\n"
     ]
    }
   ],
   "source": [
    "for i, j in zip(range(5, 10), range(4)):\n",
    "    print i,j"
   ]
  },
  {
   "cell_type": "code",
   "execution_count": 502,
   "metadata": {},
   "outputs": [
    {
     "data": {
      "text/plain": [
       "[0, 1, 2, 3, 4]"
      ]
     },
     "execution_count": 502,
     "metadata": {},
     "output_type": "execute_result"
    }
   ],
   "source": [
    "range(5)"
   ]
  },
  {
   "cell_type": "code",
   "execution_count": null,
   "metadata": {},
   "outputs": [],
   "source": []
  },
  {
   "cell_type": "code",
   "execution_count": null,
   "metadata": {},
   "outputs": [],
   "source": []
  },
  {
   "cell_type": "code",
   "execution_count": 433,
   "metadata": {},
   "outputs": [
    {
     "ename": "ValueError",
     "evalue": "cannot reshape array of size 29 into shape (4,5)",
     "output_type": "error",
     "traceback": [
      "\u001b[0;31m---------------------------------------------------------------------------\u001b[0m",
      "\u001b[0;31mValueError\u001b[0m                                Traceback (most recent call last)",
      "\u001b[0;32m<ipython-input-433-f0e9b3e24b89>\u001b[0m in \u001b[0;36m<module>\u001b[0;34m()\u001b[0m\n\u001b[1;32m      1\u001b[0m \u001b[0;32mimport\u001b[0m \u001b[0mnumpy\u001b[0m \u001b[0;32mas\u001b[0m \u001b[0mnp\u001b[0m\u001b[0;34m\u001b[0m\u001b[0m\n\u001b[0;32m----> 2\u001b[0;31m \u001b[0marray\u001b[0m \u001b[0;34m=\u001b[0m \u001b[0mnp\u001b[0m\u001b[0;34m.\u001b[0m\u001b[0marange\u001b[0m\u001b[0;34m(\u001b[0m\u001b[0;36m29\u001b[0m\u001b[0;34m)\u001b[0m\u001b[0;34m.\u001b[0m\u001b[0mreshape\u001b[0m\u001b[0;34m(\u001b[0m\u001b[0;36m4\u001b[0m\u001b[0;34m,\u001b[0m\u001b[0;36m5\u001b[0m\u001b[0;34m)\u001b[0m\u001b[0;34m\u001b[0m\u001b[0m\n\u001b[0m\u001b[1;32m      3\u001b[0m \u001b[0;32mprint\u001b[0m \u001b[0marray\u001b[0m\u001b[0;34m\u001b[0m\u001b[0m\n",
      "\u001b[0;31mValueError\u001b[0m: cannot reshape array of size 29 into shape (4,5)"
     ]
    }
   ],
   "source": [
    "import numpy as np\n",
    "array = np.arange(29).reshape(4,5)\n",
    "print array"
   ]
  }
 ],
 "metadata": {
  "kernelspec": {
   "display_name": "Python 3",
   "language": "python",
   "name": "python3"
  },
  "language_info": {
   "codemirror_mode": {
    "name": "ipython",
    "version": 2
   },
   "file_extension": ".py",
   "mimetype": "text/x-python",
   "name": "python",
   "nbconvert_exporter": "python",
   "pygments_lexer": "ipython2",
   "version": "2.7.16"
  }
 },
 "nbformat": 4,
 "nbformat_minor": 2
}
