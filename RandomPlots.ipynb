{
 "cells": [
  {
   "cell_type": "code",
   "execution_count": 590,
   "metadata": {},
   "outputs": [],
   "source": [
    "def testing_adjacent_elements(current_list, prev_list, prev_list_start, n_rows):\n",
    "    len_list = len(current_list)\n",
    "    current_list_end = len_list - prev_list_start\n",
    "    for i, j in zip(range(prev_list_start, len_list), range(current_list_end)):\n",
    "        if i == prev_list_start:\n",
    "            if prev_list[i] == current_list[j] or prev_list[i] == current_list[j+1]:\n",
    "                return False\n",
    "        elif i == (len_list - 1) and current_list_end == n_rows:\n",
    "            if prev_list[i] == current_list[j-1] or prev_list[i] == current_list[j]:\n",
    "                return False\n",
    "        else:\n",
    "            if prev_list[i] == current_list[j-1] or prev_list[i] == current_list[j] or prev_list[i] == current_list[j+1]:\n",
    "                return False\n",
    "    return True"
   ]
  },
  {
   "cell_type": "code",
   "execution_count": 668,
   "metadata": {},
   "outputs": [
    {
     "name": "stdout",
     "output_type": "stream",
     "text": [
      "Please enter the number of repetitions: 3\n",
      "('you entered', 3)\n",
      "Please enter the number of plots: 10\n",
      "('you entered', 10)\n",
      "Please enter the number of columns: 2\n",
      "('you entered', 10)\n",
      "('The number of rows will be', 5)\n",
      "Cols: 2\n",
      "Rows: 5\n",
      "-------------------\n",
      "('Rep:', 1)\n",
      "[['6' '5']]\n",
      "[['10' '3']]\n",
      "[['2' '8']]\n",
      "[['1' '7']]\n",
      "[['9' '4']]\n",
      "-------------------\n",
      "('Rep:', 2)\n",
      "[['6' '3']]\n",
      "[['7' '5']]\n",
      "[['1' '4']]\n",
      "[['9' '8']]\n",
      "[['10' '2']]\n",
      "-------------------\n",
      "('Rep:', 3)\n",
      "[['10' '3']]\n",
      "[['7' '4']]\n",
      "[['1' '9']]\n",
      "[['6' '2']]\n",
      "[['5' '8']]\n"
     ]
    }
   ],
   "source": [
    "import random\n",
    "import math\n",
    "import numpy as np\n",
    "import sys\n",
    "# n_reps = 3\n",
    "# n_plots = 10\n",
    "# n_cols = 2\n",
    "n_reps = int(input(\"Please enter the number of repetitions: \"))\n",
    "print(\"you entered\", n_reps)\n",
    "n_plots = int(input(\"Please enter the number of plots: \"))\n",
    "print(\"you entered\", n_plots)\n",
    "n_cols = int(input(\"Please enter the number of columns: \"))\n",
    "print(\"you entered\", n_plots)\n",
    "\n",
    "n_rows = int(math.ceil(float(n_plots)/n_cols))\n",
    "print(\"The number of rows will be\", n_rows)\n",
    "\n",
    "n_adjacent_start = n_rows*(n_cols - 1)\n",
    "# For cases like n_cols = 4 and n_plots = 9 (better n_cols = 3)\n",
    "if n_plots == n_adjacent_start:\n",
    "    n_cols -= 1\n",
    "    n_adjacent_start = n_rows*(n_cols - 1)\n",
    "\n",
    "print(\"Cols: \" + str(n_cols))\n",
    "print(\"Rows: \" + str(n_rows))\n",
    "prev_list = []\n",
    "current_list = range(1,n_plots+1)\n",
    "for i in range(n_reps):\n",
    "    current_list = random.sample(current_list, len(current_list))\n",
    "    if len(prev_list)!=0:\n",
    "        while(testing_adjacent_elements(current_list, prev_list, n_adjacent_start, n_rows) == False):\n",
    "            current_list = random.sample(current_list, len(current_list))\n",
    "    prev_list = current_list\n",
    "#     print(current_list)\n",
    "\n",
    "    array = np.asarray(current_list)\n",
    "    # Adding None if it's not a perfect matrix\n",
    "    none_array = np.full(n_rows*n_cols - len(current_list), \"Filler\")\n",
    "    array = np.append(array, none_array)\n",
    "    # spliting to transform to matrix\n",
    "    array = np.split(array, n_cols)\n",
    "    # transform into matrix\n",
    "    matrix = np.matrix(array)\n",
    "    matrix_transposed = np.matrix.transpose(matrix)\n",
    "\n",
    "    print(\"-------------------\")\n",
    "    print(\"Rep:\", i+1)\n",
    "#     print matrix_transposed\n",
    "    print('\\n'.join(['\\t'.join([str(cell) for cell in row]) for row in matrix_transposed]))\n"
   ]
  },
  {
   "cell_type": "code",
   "execution_count": null,
   "metadata": {},
   "outputs": [],
   "source": []
  }
 ],
 "metadata": {
  "kernelspec": {
   "display_name": "Python 3",
   "language": "python",
   "name": "python3"
  },
  "language_info": {
   "codemirror_mode": {
    "name": "ipython",
    "version": 2
   },
   "file_extension": ".py",
   "mimetype": "text/x-python",
   "name": "python",
   "nbconvert_exporter": "python",
   "pygments_lexer": "ipython2",
   "version": "2.7.16"
  }
 },
 "nbformat": 4,
 "nbformat_minor": 2
}
